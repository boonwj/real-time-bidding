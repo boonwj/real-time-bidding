{
 "cells": [
  {
   "cell_type": "code",
   "execution_count": 50,
   "metadata": {},
   "outputs": [],
   "source": [
    "import numpy as np\n",
    "import pandas as pd\n",
    "import sklearn as skl\n",
    "import seaborn as sns\n",
    "import matplotlib.pyplot as plt\n",
    "\n",
    "%matplotlib inline"
   ]
  },
  {
   "cell_type": "code",
   "execution_count": 51,
   "metadata": {},
   "outputs": [],
   "source": [
    "#Wenjie's \n",
    "ds_test = pd.read_csv(\"we_data/test.csv\")\n",
    "ds_train = pd.read_csv(\"we_data/train.csv\")\n",
    "ds_val = pd.read_csv(\"we_data/validation.csv\")"
   ]
  },
  {
   "cell_type": "code",
   "execution_count": 52,
   "metadata": {},
   "outputs": [],
   "source": [
    "pearson = ds_train.corr(method='pearson')"
   ]
  },
  {
   "cell_type": "code",
   "execution_count": 53,
   "metadata": {},
   "outputs": [
    {
     "data": {
      "text/plain": [
       "<matplotlib.axes._subplots.AxesSubplot at 0x7fead1101710>"
      ]
     },
     "execution_count": 53,
     "metadata": {},
     "output_type": "execute_result"
    },
    {
     "data": {
      "image/png": "[encoded data removed]",
      "text/plain": [
       "<Figure size 792x648 with 2 Axes>"
      ]
     },
     "metadata": {
      "needs_background": "light"
     },
     "output_type": "display_data"
    }
   ],
   "source": [
    "f, ax = plt.subplots(figsize=(11,9))\n",
    "cmap = sns.diverging_palette(220, 10, as_cmap=True)\n",
    "sns.heatmap(pearson, cmap=cmap, vmax=.3, center=0, square=True, linewidths=.5, cbar_kws={'shrink': .5})"
   ]
  },
  {
   "cell_type": "markdown",
   "metadata": {},
   "source": [
    "# Gathering categorical and essential data from training set"
   ]
  },
  {
   "cell_type": "code",
   "execution_count": 54,
   "metadata": {},
   "outputs": [],
   "source": [
    "df = ds_train"
   ]
  },
  {
   "cell_type": "code",
   "execution_count": 55,
   "metadata": {},
   "outputs": [],
   "source": [
    "ua_split = df['useragent'].str.split('_', n=1, expand=True)\n",
    "os_values = ua_split[0].unique()\n",
    "browser_values = ua_split[1].unique()\n",
    "ua_values = df['useragent'].unique()\n",
    "hour_values = df['hour'].unique()\n",
    "weekday_values = df['weekday'].unique()\n",
    "region_values = df['region'].unique()\n",
    "city_values = df['city'].unique()\n",
    "slotv_values = df['slotvisibility'].unique()\n",
    "slotf_values = df['slotformat'].unique()\n",
    "sloth_values = df['slotheight'].unique()\n",
    "slotw_values = df['slotwidth'].unique()"
   ]
  },
  {
   "cell_type": "code",
   "execution_count": 56,
   "metadata": {},
   "outputs": [],
   "source": [
    "user_values = set()\n",
    "\n",
    "for x in df.usertag.fillna(0):\n",
    "    users = str(x).split(',')\n",
    "    user_values.update(users)"
   ]
  },
  {
   "cell_type": "code",
   "execution_count": 57,
   "metadata": {},
   "outputs": [
    {
     "name": "stdout",
     "output_type": "stream",
     "text": [
      "Base CTR: 0.0007375623256619447, Base Bid: 272.9620461862927, Base Pay: 78.15141623895867, Base Click Pay: 105.46402677077523\n"
     ]
    }
   ],
   "source": [
    "# Average clickthrough rate\n",
    "base_ctr = ds_train['click'].mean()\n",
    "base_pay = ds_train['payprice'].mean()\n",
    "base_click_pay = ds_train[ds_train['click'] == 1]['payprice'].mean()\n",
    "base_bid = ds_train['bidprice'].mean()\n",
    "print(f\"Base CTR: {base_ctr}, Base Bid: {base_bid}, Base Pay: {base_pay}, Base Click Pay: {base_click_pay}\")"
   ]
  },
  {
   "cell_type": "code",
   "execution_count": 81,
   "metadata": {},
   "outputs": [],
   "source": [
    "downsample_rate = 0.025"
   ]
  },
  {
   "cell_type": "markdown",
   "metadata": {},
   "source": [
    "# Helper functions"
   ]
  },
  {
   "cell_type": "code",
   "execution_count": 110,
   "metadata": {},
   "outputs": [],
   "source": [
    "def preprocess(df_proc, downsample=1):\n",
    "    \"\"\"\n",
    "    Columns:\n",
    "    'click', 'weekday', 'hour', 'bidid', 'userid', 'useragent', 'IP',\n",
    "    'region', 'city', 'adexchange', 'domain', 'url', 'urlid', 'slotid',\n",
    "    'slotwidth', 'slotheight', 'slotvisibility', 'slotformat', 'slotprice',\n",
    "    'creative', 'bidprice', 'payprice', 'keypage', 'advertiser', 'usertag'\n",
    "\n",
    "    Columns with nulls:\n",
    "    adexchange, domain, url, urlid, keypage, usertag    \n",
    "    \"\"\"\n",
    "    # useragent replaced by os and browser\n",
    "    df = df_proc.copy()\n",
    "\n",
    "    # Sampling\n",
    "    if 'click' in df:\n",
    "        df_click_0 = df[df['click'] == 0]\n",
    "        df_click_1 = df[df['click'] == 1]\n",
    "        df_click_0_undersample = df_click_0.sample(frac=downsample)\n",
    "        df = pd.concat([df_click_0_undersample, df_click_1], axis=0)\n",
    "    else:\n",
    "        df = df.sample(frac=downsample)\n",
    "    \n",
    "    not_used = ['bidid', 'userid', 'IP', 'slotid', 'useragent', 'creative']\n",
    "    check_fields = ['bidprice', 'payprice']\n",
    "    \n",
    "            \n",
    "    dum_req = ['os', 'browser', 'weekday', 'hour', 'slotvisibility', 'slotformat', 'advertiser', 'slotprice',\n",
    "              'region', 'city', 'slotwidth', 'slotheight']\n",
    "    \n",
    "    cat_fields = [('os', os_values), ('browser', browser_values), ('slotformat', slotf_values), \n",
    "                 ('slotvisibility', slotv_values), ('region', region_values), ('city', city_values),\n",
    "                 ('slotwidth', slotw_values), ('slotheight', sloth_values)]\n",
    "\n",
    "    # Check if non essential fields are present \n",
    "    for field in check_fields:\n",
    "        if field in df_proc.columns:\n",
    "            not_used.append(field)\n",
    "\n",
    "    # Obtain os and browser from useragent\n",
    "    x = df['useragent'].str.split('_', n=1, expand=True)\n",
    "    df['os'] = x[0] \n",
    "    df['browser'] = x[1]\n",
    "    \n",
    "    # Set categories for categorical fields\n",
    "    for field, values in cat_fields:\n",
    "        df[field] = pd.Categorical(df[field], categories=values)\n",
    "       \n",
    "    # Slot price\n",
    "    bins = [-np.inf, 10, 50, 100, 150, np.inf]\n",
    "    labels = ['sp_1','sp_2','sp_3','sp_4', 'sp_5']\n",
    "    df['slotprice'] = pd.cut(df['slotprice'], bins=bins, labels=labels)\n",
    "\n",
    "    # One hot encoding\n",
    "    df = pd.get_dummies(df, columns=dum_req)\n",
    "    \n",
    "    # Process usertag\n",
    "    df_users = df['usertag'].str.get_dummies(sep=',')\n",
    "    df = pd.concat([df, df_users], axis=1)\n",
    "    \n",
    "    # Drop non-essential columns\n",
    "    df.dropna(axis=1, inplace=True)\n",
    "    df.drop(not_used, axis=1, inplace=True)\n",
    "    \n",
    "    return df"
   ]
  },
  {
   "cell_type": "code",
   "execution_count": 60,
   "metadata": {},
   "outputs": [],
   "source": [
    "def get_prob(model, df, base_ctr):\n",
    "    bidids = df[['bidid', 'click']]\n",
    "    if 'click' in df.columns:\n",
    "        df = df.drop('click', axis=1)\n",
    "    processed_df = preprocess(df)\n",
    "    prob = pd.DataFrame(model.predict_proba(processed_df))\n",
    "    bidids['prob'] = prob[1]\n",
    "    bidids['clickprob'] = prob[1] / base_ctr\n",
    "    return bidids"
   ]
  },
  {
   "cell_type": "code",
   "execution_count": 103,
   "metadata": {},
   "outputs": [],
   "source": [
    "def get_bids(model, df, base_bid, base_ctr, downsample_rate):\n",
    "    bidids = df['bidid']\n",
    "    if 'click' in df.columns:\n",
    "        df = df.drop('click', axis=1)\n",
    "    processed_df = preprocess(df)\n",
    "    prob = pd.DataFrame(model.predict_proba(processed_df))\n",
    "    prob['est_ctr'] = prob[1] / (prob[1] + ((1 - prob[1]) / downsample_rate))\n",
    "    prob['bidprice'] = base_bid * prob['est_ctr'] / base_ctr\n",
    "    submit_bids = pd.concat([bidids, prob['bidprice']], axis=1)\n",
    "    return submit_bids.round(2)"
   ]
  },
  {
   "cell_type": "code",
   "execution_count": 62,
   "metadata": {},
   "outputs": [],
   "source": [
    "def check_clicks(df_val, df_bids, budget=6250):\n",
    "    df_val = df_val[['bidid', 'payprice', 'click']]\n",
    "    df_val = pd.merge(df_val, df_bids, on='bidid')\n",
    "    return df_val"
   ]
  },
  {
   "cell_type": "markdown",
   "metadata": {},
   "source": [
    "# Train Model"
   ]
  },
  {
   "cell_type": "markdown",
   "metadata": {},
   "source": [
    "### Preparing data for training"
   ]
  },
  {
   "cell_type": "code",
   "execution_count": 65,
   "metadata": {},
   "outputs": [],
   "source": [
    "# train_df = preprocess(ds_train)\n",
    "train_df = preprocess(ds_train, downsample=downsample_rate)\n",
    "val_df = preprocess(ds_val)\n",
    "X_train = train_df.drop('click', axis=1)\n",
    "y_train = train_df['click']\n",
    "X_test = val_df.drop('click', axis=1)\n",
    "y_test = val_df['click']"
   ]
  },
  {
   "cell_type": "markdown",
   "metadata": {},
   "source": [
    "### Logistic Regression with SGD"
   ]
  },
  {
   "cell_type": "code",
   "execution_count": 67,
   "metadata": {},
   "outputs": [
    {
     "data": {
      "text/plain": [
       "SGDClassifier(alpha=0.0001, average=False, class_weight=None,\n",
       "       early_stopping=False, epsilon=0.1, eta0=0.0, fit_intercept=True,\n",
       "       l1_ratio=0.15, learning_rate='optimal', loss='log', max_iter=10000,\n",
       "       n_iter=None, n_iter_no_change=5, n_jobs=None, penalty='l2',\n",
       "       power_t=0.5, random_state=None, shuffle=True, tol=0.001,\n",
       "       validation_fraction=0.1, verbose=0, warm_start=False)"
      ]
     },
     "execution_count": 67,
     "metadata": {},
     "output_type": "execute_result"
    }
   ],
   "source": [
    "from sklearn.linear_model import SGDClassifier\n",
    "sgdmodel = SGDClassifier(loss='log', max_iter=10000, tol=1e-3)\n",
    "sgdmodel.fit(X_train, y_train)"
   ]
  },
  {
   "cell_type": "markdown",
   "metadata": {},
   "source": [
    "### Logistic Regression "
   ]
  },
  {
   "cell_type": "code",
   "execution_count": 68,
   "metadata": {},
   "outputs": [
    {
     "name": "stderr",
     "output_type": "stream",
     "text": [
      "/home/boonwenjie/anaconda3/envs/ml/lib/python3.6/site-packages/sklearn/linear_model/logistic.py:758: ConvergenceWarning: lbfgs failed to converge. Increase the number of iterations.\n",
      "  \"of iterations.\", ConvergenceWarning)\n"
     ]
    },
    {
     "data": {
      "text/plain": [
       "LogisticRegression(C=1.0, class_weight=None, dual=False, fit_intercept=True,\n",
       "          intercept_scaling=1, max_iter=100, multi_class='warn',\n",
       "          n_jobs=None, penalty='l2', random_state=None, solver='lbfgs',\n",
       "          tol=0.0001, verbose=0, warm_start=False)"
      ]
     },
     "execution_count": 68,
     "metadata": {},
     "output_type": "execute_result"
    }
   ],
   "source": [
    "from sklearn.linear_model import LogisticRegression\n",
    "logmodel = LogisticRegression(solver='lbfgs')\n",
    "logmodel.fit(X_train, y_train)"
   ]
  },
  {
   "cell_type": "markdown",
   "metadata": {},
   "source": [
    "### Random Forest"
   ]
  },
  {
   "cell_type": "code",
   "execution_count": 107,
   "metadata": {},
   "outputs": [
    {
     "data": {
      "text/plain": [
       "RandomForestClassifier(bootstrap=True, class_weight=None, criterion='gini',\n",
       "            max_depth=None, max_features='auto', max_leaf_nodes=None,\n",
       "            min_impurity_decrease=0.0, min_impurity_split=None,\n",
       "            min_samples_leaf=1, min_samples_split=2,\n",
       "            min_weight_fraction_leaf=0.0, n_estimators=100, n_jobs=None,\n",
       "            oob_score=False, random_state=None, verbose=0,\n",
       "            warm_start=False)"
      ]
     },
     "execution_count": 107,
     "metadata": {},
     "output_type": "execute_result"
    }
   ],
   "source": [
    "from sklearn.ensemble import RandomForestClassifier\n",
    "\n",
    "rfmodel = RandomForestClassifier(n_estimators=100)\n",
    "rfmodel.fit(X_train, y_train)"
   ]
  },
  {
   "cell_type": "markdown",
   "metadata": {},
   "source": [
    "### XGB (Gradient Boosting Decision Tree)"
   ]
  },
  {
   "cell_type": "code",
   "execution_count": 111,
   "metadata": {},
   "outputs": [
    {
     "data": {
      "text/plain": [
       "XGBClassifier(base_score=0.5, booster='gbtree', colsample_bylevel=1,\n",
       "       colsample_bytree=1, gamma=0, learning_rate=0.1, max_delta_step=0,\n",
       "       max_depth=3, min_child_weight=1, missing=None, n_estimators=100,\n",
       "       n_jobs=4, nthread=None, objective='binary:logistic', random_state=0,\n",
       "       reg_alpha=0, reg_lambda=1, scale_pos_weight=1, seed=None,\n",
       "       silent=True, subsample=1)"
      ]
     },
     "execution_count": 111,
     "metadata": {},
     "output_type": "execute_result"
    }
   ],
   "source": [
    "from xgboost import XGBClassifier\n",
    "# learning_rate=0.01, n_estimators=10, max_depth=3\n",
    "xgbmodel = XGBClassifier(n_jobs=4)\n",
    "xgbmodel.fit(X_train, y_train)"
   ]
  },
  {
   "cell_type": "markdown",
   "metadata": {},
   "source": [
    "### Stacked Classifier"
   ]
  },
  {
   "cell_type": "code",
   "execution_count": 112,
   "metadata": {},
   "outputs": [],
   "source": [
    "# from sklearn.model_selection import GridSearchCV\n",
    "\n",
    "# parameters = {'max_depth': [1, 3, 5, 7]}\n",
    "# grid_search = GridSearchCV(xgbmodel, parameters)\n",
    "# grid_search.fit(X_train, y_train)\n",
    "# print(grid_search.best_params_)"
   ]
  },
  {
   "cell_type": "code",
   "execution_count": 113,
   "metadata": {
    "scrolled": false
   },
   "outputs": [],
   "source": [
    "# from sklearn.ensemble import GradientBoostingClassifier\n",
    "\n",
    "# gbmodel = GradientBoostingClassifier(learning_rate=0.01)\n",
    "# gbmodel.fit(X_train, y_train)"
   ]
  },
  {
   "cell_type": "markdown",
   "metadata": {},
   "source": [
    "# Using trained models"
   ]
  },
  {
   "cell_type": "code",
   "execution_count": 130,
   "metadata": {},
   "outputs": [],
   "source": [
    "# models = [('sgd', sgdmodel), ('log', logmodel), ('xgb', xgbmodel)]\n",
    "models = [('sgd', sgdmodel), ('log', logmodel), ('rf', rfmodel), ('xgb', xgbmodel)]"
   ]
  },
  {
   "cell_type": "code",
   "execution_count": 131,
   "metadata": {},
   "outputs": [
    {
     "name": "stdout",
     "output_type": "stream",
     "text": [
      "Model: sgd, AUC Score: 0.5761120419684128\n",
      "[[303346    377]\n",
      " [   171     31]]\n",
      "Model: log, AUC Score: 0.5832282920116469\n",
      "[[303158    565]\n",
      " [   168     34]]\n",
      "Model: rf, AUC Score: 0.605922017661807\n",
      "[[303411    312]\n",
      " [   159     43]]\n",
      "Model: xgb, AUC Score: 0.6653608829932094\n",
      "[[303431    292]\n",
      " [   135     67]]\n"
     ]
    }
   ],
   "source": [
    "from sklearn.metrics import confusion_matrix, roc_curve, auc\n",
    "\n",
    "for name, model in models:\n",
    "    y_pred = model.predict(X_test)\n",
    "    false_positive_rate, true_positive_rate, thresholds = roc_curve(y_test, y_pred)\n",
    "    roc_auc = auc(false_positive_rate, true_positive_rate)\n",
    "\n",
    "    print(f'Model: {name}, AUC Score: {roc_auc}')\n",
    "    print(confusion_matrix(y_test, y_pred))"
   ]
  },
  {
   "cell_type": "code",
   "execution_count": 142,
   "metadata": {},
   "outputs": [
    {
     "name": "stdout",
     "output_type": "stream",
     "text": [
      "Base CTR: 0.0007375623256619447\n",
      "Negative downsample: 0.025\n",
      "Base Bid: 105.46402677077523\n"
     ]
    },
    {
     "data": {
      "text/html": [
       "<div>\n",
       "<style scoped>\n",
       "    .dataframe tbody tr th:only-of-type {\n",
       "        vertical-align: middle;\n",
       "    }\n",
       "\n",
       "    .dataframe tbody tr th {\n",
       "        vertical-align: top;\n",
       "    }\n",
       "\n",
       "    .dataframe thead th {\n",
       "        text-align: right;\n",
       "    }\n",
       "</style>\n",
       "<table border=\"1\" class=\"dataframe\">\n",
       "  <thead>\n",
       "    <tr style=\"text-align: right;\">\n",
       "      <th></th>\n",
       "      <th>0</th>\n",
       "      <th>1</th>\n",
       "      <th>recalibrated_prob</th>\n",
       "      <th>bidprice</th>\n",
       "    </tr>\n",
       "  </thead>\n",
       "  <tbody>\n",
       "    <tr>\n",
       "      <th>303796</th>\n",
       "      <td>0.003868</td>\n",
       "      <td>0.996132</td>\n",
       "      <td>0.865554</td>\n",
       "      <td>123765.523438</td>\n",
       "    </tr>\n",
       "    <tr>\n",
       "      <th>303744</th>\n",
       "      <td>0.006222</td>\n",
       "      <td>0.993778</td>\n",
       "      <td>0.799719</td>\n",
       "      <td>114351.867188</td>\n",
       "    </tr>\n",
       "    <tr>\n",
       "      <th>135937</th>\n",
       "      <td>0.012463</td>\n",
       "      <td>0.987537</td>\n",
       "      <td>0.664535</td>\n",
       "      <td>95021.781250</td>\n",
       "    </tr>\n",
       "    <tr>\n",
       "      <th>117390</th>\n",
       "      <td>0.021163</td>\n",
       "      <td>0.978837</td>\n",
       "      <td>0.536242</td>\n",
       "      <td>76677.265625</td>\n",
       "    </tr>\n",
       "    <tr>\n",
       "      <th>192939</th>\n",
       "      <td>0.027218</td>\n",
       "      <td>0.972782</td>\n",
       "      <td>0.471881</td>\n",
       "      <td>67474.328125</td>\n",
       "    </tr>\n",
       "  </tbody>\n",
       "</table>\n",
       "</div>"
      ],
      "text/plain": [
       "               0         1  recalibrated_prob       bidprice\n",
       "303796  0.003868  0.996132           0.865554  123765.523438\n",
       "303744  0.006222  0.993778           0.799719  114351.867188\n",
       "135937  0.012463  0.987537           0.664535   95021.781250\n",
       "117390  0.021163  0.978837           0.536242   76677.265625\n",
       "192939  0.027218  0.972782           0.471881   67474.328125"
      ]
     },
     "execution_count": 142,
     "metadata": {},
     "output_type": "execute_result"
    }
   ],
   "source": [
    "print('Base CTR:', base_ctr)\n",
    "print('Negative downsample:', downsample_rate)\n",
    "print('Base Bid:', base_click_pay)\n",
    "\n",
    "x = pd.DataFrame(xgbmodel.predict_proba(X_test))\n",
    "x['recalibrated_prob'] = x[1] / ( x[1] + ((1 - x[1]) / downsample_rate) )\n",
    "x['bidprice'] = x['recalibrated_prob'] / base_ctr * base_click_pay\n",
    "x.sort_values('bidprice', ascending=False).head()"
   ]
  },
  {
   "cell_type": "code",
   "execution_count": 138,
   "metadata": {},
   "outputs": [
    {
     "name": "stdout",
     "output_type": "stream",
     "text": [
      "Base CTR: 0.0007375623256619447\n",
      "downsample_rate: 0.025\n",
      "base_bid: 80, min_bid: 9.23, max_bid: 93882.64, min_recal_prob: 0.00, max_recal_prob: 0.87\n",
      "base_bid: 90, min_bid: 10.39, max_bid: 105617.97, min_recal_prob: 0.00, max_recal_prob: 0.87\n",
      "base_bid: 100, min_bid: 11.54, max_bid: 117353.30, min_recal_prob: 0.00, max_recal_prob: 0.87\n",
      "base_bid: 110, min_bid: 12.70, max_bid: 129088.63, min_recal_prob: 0.00, max_recal_prob: 0.87\n"
     ]
    }
   ],
   "source": [
    "x = xgbmodel.predict_proba(X_test)\n",
    "\n",
    "base = range(80, 120, 10)\n",
    "for base_b in base:\n",
    "    bids, probs = [], []\n",
    "    for no, yes in x:\n",
    "        recalibrated_probability = yes / (yes + ((1 - yes) / downsample_rate))\n",
    "        bids.append(base_b / base_ctr * recalibrated_probability)\n",
    "        probs.append(recalibrated_probability)\n",
    "\n",
    "    print(f'base_bid: {base_b}, min_bid: {min(bids):.2f}, max_bid: {max(bids):.2f}, '\n",
    "          f'min_recal_prob: {min(probs):.3f}, max_recal_prob: {max(probs):.3f}')"
   ]
  },
  {
   "cell_type": "code",
   "execution_count": 88,
   "metadata": {
    "scrolled": true
   },
   "outputs": [
    {
     "data": {
      "text/plain": [
       "array([[0.90594531, 0.09405469],\n",
       "       [0.9751917 , 0.0248083 ],\n",
       "       [0.98527804, 0.01472196],\n",
       "       ...,\n",
       "       [0.92556511, 0.07443489],\n",
       "       [0.99757822, 0.00242178],\n",
       "       [0.90407207, 0.09592793]])"
      ]
     },
     "execution_count": 88,
     "metadata": {},
     "output_type": "execute_result"
    }
   ],
   "source": [
    "logmodel.predict_proba(X_test)"
   ]
  },
  {
   "cell_type": "code",
   "execution_count": 78,
   "metadata": {},
   "outputs": [
    {
     "name": "stdout",
     "output_type": "stream",
     "text": [
      "base_bid: 78.15141623895867\n",
      "Model: sgd | Clicks: 50 - 24.75%, Won: 104149 - 34.27%, Spent: 4279.541\n",
      "Model: log | Clicks: 50 - 24.75%, Won: 99549 - 32.75%, Spent: 4215.169\n",
      "Model: xgb | Clicks: 42 - 20.79%, Won: 102545 - 33.74%, Spent: 3491.734\n",
      "base_bid: 105.46402677077523\n",
      "Model: sgd | Clicks: 65 - 32.18%, Won: 130053 - 42.79%, Spent: 5982.988\n",
      "Model: log | Clicks: 64 - 31.68%, Won: 123533 - 40.65%, Spent: 5734.604\n",
      "Model: xgb | Clicks: 57 - 28.22%, Won: 132562 - 43.62%, Spent: 5200.383\n"
     ]
    }
   ],
   "source": [
    "# Testing all models on validation dataset\n",
    "\n",
    "test_bids = [base_pay, base_click_pay]\n",
    "\n",
    "for x in test_bids:\n",
    "    print('base_bid:', x)\n",
    "    for name, model in models:\n",
    "        df = ds_val\n",
    "\n",
    "        df = check_clicks(df, get_bids(model, df, x, base_ctr, downsample_rate))\n",
    "        df[['bidid', 'bidprice']].to_csv(f'./val_bids_{name}.csv', index=False, header=True)\n",
    "\n",
    "        df['win'] = (df['bidprice'] - df['payprice']) >= 0\n",
    "\n",
    "        total = df.shape[0]\n",
    "        total_clicks = df[df['click'] == 1].shape[0]\n",
    "        won_clicks = df[(df['click'] == 1) & (df['win'] == 1)].shape[0]\n",
    "        total_won = df[df['win'] == True].shape[0]\n",
    "        spent = df[df['win'] == True]['payprice'].sum()/1000\n",
    "\n",
    "        print(f'Model: {name} | Clicks: {won_clicks} - {won_clicks/total_clicks * 100:.2f}%, ' \n",
    "              f'Won: {total_won} - {total_won/total*100:.2f}%, Spent: {spent}')"
   ]
  },
  {
   "cell_type": "code",
   "execution_count": 80,
   "metadata": {},
   "outputs": [],
   "source": [
    "# Create test bid file for Deepmining website\n",
    "df = ds_test\n",
    "model = xgbmodel # select model to use\n",
    "\n",
    "df = get_bids(model, df, base_click_pay, base_ctr, downsample_rate)\n",
    "df[['bidid', 'bidprice']].to_csv('./test_bids.csv', index=False, header=True)"
   ]
  },
  {
   "cell_type": "code",
   "execution_count": null,
   "metadata": {},
   "outputs": [],
   "source": [
    "\"\"\" downsample - 0.001\n",
    "base_bid: 50\n",
    "Model: sgd | Clicks: 100 - 49.50%, Won: 97426 - 32.06%\n",
    "Model: log | Clicks: 81 - 40.10%, Won: 93886 - 30.89%\n",
    "Model: xgb | Clicks: 57 - 28.22%, Won: 146847 - 48.32%\n",
    "base_bid: 55\n",
    "Model: sgd | Clicks: 105 - 51.98%, Won: 106686 - 35.10%\n",
    "Model: log | Clicks: 94 - 46.53%, Won: 104159 - 34.27%\n",
    "Model: xgb | Clicks: 72 - 35.64%, Won: 167146 - 55.00%\n",
    "base_bid: 60\n",
    "Model: sgd | Clicks: 111 - 54.95%, Won: 115281 - 37.93%\n",
    "Model: log | Clicks: 102 - 50.50%, Won: 114017 - 37.51%\n",
    "Model: xgb | Clicks: 102 - 50.50%, Won: 192759 - 63.42%\n",
    "base_bid: 65\n",
    "Model: sgd | Clicks: 119 - 58.91%, Won: 123228 - 40.55%\n",
    "Model: log | Clicks: 109 - 53.96%, Won: 123678 - 40.69%\n",
    "Model: xgb | Clicks: 121 - 59.90%, Won: 210867 - 69.38%\n",
    "base_bid: 70\n",
    "Model: sgd | Clicks: 125 - 61.88%, Won: 130705 - 43.01%\n",
    "Model: log | Clicks: 118 - 58.42%, Won: 132788 - 43.69%\n",
    "Model: xgb | Clicks: 125 - 61.88%, Won: 219490 - 72.22%\n",
    "base_bid: 75\n",
    "Model: sgd | Clicks: 126 - 62.38%, Won: 137675 - 45.30%\n",
    "Model: log | Clicks: 123 - 60.89%, Won: 141406 - 46.53%\n",
    "Model: xgb | Clicks: 128 - 63.37%, Won: 226731 - 74.60%\n",
    "base_bid: 80\n",
    "Model: sgd | Clicks: 128 - 63.37%, Won: 144362 - 47.50%\n",
    "Model: log | Clicks: 129 - 63.86%, Won: 149670 - 49.25%\n",
    "Model: xgb | Clicks: 133 - 65.84%, Won: 231757 - 76.25%\n",
    "base_bid: 85\n",
    "Model: sgd | Clicks: 130 - 64.36%, Won: 150626 - 49.56%\n",
    "Model: log | Clicks: 131 - 64.85%, Won: 157335 - 51.77%\n",
    "Model: xgb | Clicks: 135 - 66.83%, Won: 237119 - 78.02%\n",
    "base_bid: 90\n",
    "Model: sgd | Clicks: 132 - 65.35%, Won: 156380 - 51.45%\n",
    "Model: log | Clicks: 134 - 66.34%, Won: 164450 - 54.11%\n",
    "Model: xgb | Clicks: 138 - 68.32%, Won: 241296 - 79.39%\n",
    "base_bid: 95\n",
    "Model: sgd | Clicks: 137 - 67.82%, Won: 161946 - 53.28%\n",
    "Model: log | Clicks: 136 - 67.33%, Won: 171138 - 56.31%\n",
    "Model: xgb | Clicks: 142 - 70.30%, Won: 245981 - 80.93%\n",
    "\"\"\"\n",
    "\n",
    "\"\"\"Downsampling 0.025\n",
    "base_bid: 78.15141623895867\n",
    "Model: sgd | Clicks: 77 - 38.12%, Won: 88947 - 29.27%, Spent: 3271.344\n",
    "Model: log | Clicks: 122 - 60.40%, Won: 139807 - 46.00%, Spent: 6455.605\n",
    "Model: xgb | Clicks: 111 - 54.95%, Won: 133521 - 43.93%, Spent: 6034.602\n",
    "base_bid: 105.46402677077523\n",
    "Model: sgd | Clicks: 101 - 50.00%, Won: 126534 - 41.63%, Spent: 5499.176\n",
    "Model: log | Clicks: 139 - 68.81%, Won: 178558 - 58.75%, Spent: 9144.042\n",
    "Model: xgb | Clicks: 119 - 58.91%, Won: 159874 - 52.60%, Spent: 7844.006\n",
    "\n",
    "\"\"\""
   ]
  },
  {
   "cell_type": "code",
   "execution_count": null,
   "metadata": {},
   "outputs": [],
   "source": []
  },
  {
   "cell_type": "code",
   "execution_count": null,
   "metadata": {},
   "outputs": [],
   "source": []
  }
 ],
 "metadata": {
  "kernelspec": {
   "display_name": "Python 3",
   "language": "python",
   "name": "python3"
  },
  "language_info": {
   "codemirror_mode": {
    "name": "ipython",
    "version": 3
   },
   "file_extension": ".py",
   "mimetype": "text/x-python",
   "name": "python",
   "nbconvert_exporter": "python",
   "pygments_lexer": "ipython3",
   "version": "3.6.8"
  }
 },
 "nbformat": 4,
 "nbformat_minor": 2
}
