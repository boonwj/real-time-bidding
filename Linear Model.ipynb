{
 "cells": [
  {
   "cell_type": "code",
   "execution_count": 1,
   "metadata": {},
   "outputs": [],
   "source": [
    "import numpy as np\n",
    "import pandas as pd\n",
    "import sklearn as skl"
   ]
  },
  {
   "cell_type": "code",
   "execution_count": 2,
   "metadata": {},
   "outputs": [],
   "source": [
    "#Wenjie's \n",
    "ds_test = pd.read_csv(\"we_data/test.csv\")\n",
    "ds_train = pd.read_csv(\"we_data/train.csv\")\n",
    "ds_val = pd.read_csv(\"we_data/validation.csv\")"
   ]
  },
  {
   "cell_type": "markdown",
   "metadata": {},
   "source": [
    "# Helper functions"
   ]
  },
  {
   "cell_type": "code",
   "execution_count": 3,
   "metadata": {},
   "outputs": [],
   "source": [
    "def preprocess(df_proc):\n",
    "    # useragent replaced by os and browser\n",
    "    df = df_proc.copy()\n",
    "    useless = ['bidid', 'userid', 'IP', 'slotid', 'useragent', 'creative', 'region',\n",
    "               'city', 'slotwidth', 'slotheight']\n",
    "\n",
    "    check_fields = ['bidprice', 'payprice']\n",
    "    for field in check_fields:\n",
    "        if field in df_proc.columns:\n",
    "            useless.append(field)\n",
    "            \n",
    "    dum_req = ['os', 'browser', 'weekday', 'hour', 'slotvisibility', 'slotformat', 'advertiser', 'slotprice']\n",
    "\n",
    "    x = df['useragent'].str.split('_', n=1, expand=True)\n",
    "    df['os'] = x[0] \n",
    "    df['browser'] = x[1]\n",
    "    df['os'] = pd.Categorical(df['os'], categories=os_values)\n",
    "    df['browser'] = pd.Categorical(df['browser'], categories=browser_values)\n",
    "#     df['slotformat'] = pd.Categorical(df['slotformat'], categories=slotf_values)\n",
    "#     df['slotvisibility'] = pd.Categorical(df['slotvisibility'], categories=slotv_values)\n",
    "   \n",
    "    # Slot price\n",
    "    bins = [-np.inf, 10, 50, 100, 150, 200, 250, np.inf]\n",
    "    labels = ['sp_1','sp_2','sp_3','sp_4', 'sp_5', 'sp_6', 'sp_7']\n",
    "    df['slotprice'] = pd.cut(df['slotprice'], bins=bins, labels=labels)\n",
    "\n",
    "    df = pd.get_dummies(df, columns=dum_req)\n",
    "    df.dropna(axis=1, inplace=True)\n",
    "    df.drop(useless, axis=1, inplace=True)\n",
    "\n",
    "    return df"
   ]
  },
  {
   "cell_type": "code",
   "execution_count": 4,
   "metadata": {},
   "outputs": [],
   "source": [
    "def get_bids(model, df, base_bid, base_ctr):\n",
    "    bidids = df['bidid']\n",
    "    if 'click' in df.columns:\n",
    "        df = df.drop('click', axis=1)\n",
    "    processed_df = preprocess(df)\n",
    "    prob = pd.DataFrame(model.predict_proba(processed_df))\n",
    "    prob['bidprice'] = base_bid * prob[1] / base_ctr\n",
    "    submit_bids = pd.concat([bidids, prob['bidprice']], axis=1)\n",
    "    return submit_bids.round(2)"
   ]
  },
  {
   "cell_type": "code",
   "execution_count": 5,
   "metadata": {},
   "outputs": [],
   "source": [
    "def check_clicks(df_val, df_bids, budget=6250):\n",
    "    df_val = df_val[['bidid', 'payprice', 'click']]\n",
    "    df_val = pd.merge(df_val, df_bids, on='bidid')\n",
    "    return df_val"
   ]
  },
  {
   "cell_type": "markdown",
   "metadata": {},
   "source": [
    "# Gathering categorical and essential data from training set"
   ]
  },
  {
   "cell_type": "code",
   "execution_count": 6,
   "metadata": {},
   "outputs": [],
   "source": [
    "df = ds_train"
   ]
  },
  {
   "cell_type": "code",
   "execution_count": 7,
   "metadata": {},
   "outputs": [],
   "source": [
    "ua_split = df['useragent'].str.split('_', n=1, expand=True)\n",
    "os_values = ua_split[0].unique()\n",
    "browser_values = ua_split[1].unique()\n",
    "ua_values = df['useragent'].unique()\n",
    "hour_values = df['hour'].unique()\n",
    "weekday_values = df['weekday'].unique()\n",
    "region_values = df['region'].unique()\n",
    "city_values = df['city'].unique()\n",
    "slotv_values = df['slotvisibility'].unique()\n",
    "slotf_values = df['slotformat'].unique()"
   ]
  },
  {
   "cell_type": "code",
   "execution_count": 8,
   "metadata": {},
   "outputs": [
    {
     "name": "stdout",
     "output_type": "stream",
     "text": [
      "Base CTR: 0.0007375623256619447, Base Bid: 272.9620461862927, Base Pay: 78.15141623895867\n"
     ]
    }
   ],
   "source": [
    "# Average clickthrough rate\n",
    "base_ctr = ds_train['click'].mean()\n",
    "base_pay = ds_train['payprice'].mean()\n",
    "base_bid = ds_train['bidprice'].mean()\n",
    "print(f\"Base CTR: {base_ctr}, Base Bid: {base_bid}, Base Pay: {base_pay}\")"
   ]
  },
  {
   "cell_type": "markdown",
   "metadata": {},
   "source": [
    "# Train Model"
   ]
  },
  {
   "cell_type": "markdown",
   "metadata": {},
   "source": [
    "### Preparing data for training"
   ]
  },
  {
   "cell_type": "code",
   "execution_count": 9,
   "metadata": {},
   "outputs": [],
   "source": [
    "train_df = preprocess(ds_train)\n",
    "val_df = preprocess(ds_val)\n",
    "X_train = train_df.drop('click', axis=1)\n",
    "y_train = train_df['click']\n",
    "# X_test = val_df.drop('click', axis=1)\n",
    "# y_test = val_df['click']"
   ]
  },
  {
   "cell_type": "markdown",
   "metadata": {},
   "source": [
    "### Logistic Regression with SGD"
   ]
  },
  {
   "cell_type": "code",
   "execution_count": 10,
   "metadata": {},
   "outputs": [
    {
     "data": {
      "text/plain": [
       "SGDClassifier(alpha=5e-05, average=False, class_weight=None,\n",
       "       early_stopping=False, epsilon=0.1, eta0=0.0, fit_intercept=True,\n",
       "       l1_ratio=0.15, learning_rate='optimal', loss='log', max_iter=10000,\n",
       "       n_iter=None, n_iter_no_change=5, n_jobs=None, penalty='l2',\n",
       "       power_t=0.5, random_state=None, shuffle=True, tol=0.001,\n",
       "       validation_fraction=0.1, verbose=0, warm_start=False)"
      ]
     },
     "execution_count": 10,
     "metadata": {},
     "output_type": "execute_result"
    }
   ],
   "source": [
    "from sklearn.linear_model import SGDClassifier\n",
    "sgdmodel = SGDClassifier(alpha=0.00005, loss='log', max_iter=10000, tol=1e-3)\n",
    "sgdmodel.fit(X_train, y_train)"
   ]
  },
  {
   "cell_type": "markdown",
   "metadata": {},
   "source": [
    "### Logistic Regression "
   ]
  },
  {
   "cell_type": "code",
   "execution_count": 11,
   "metadata": {},
   "outputs": [
    {
     "name": "stderr",
     "output_type": "stream",
     "text": [
      "/home/boonwenjie/anaconda3/envs/ml/lib/python3.6/site-packages/sklearn/linear_model/logistic.py:433: FutureWarning: Default solver will be changed to 'lbfgs' in 0.22. Specify a solver to silence this warning.\n",
      "  FutureWarning)\n"
     ]
    },
    {
     "data": {
      "text/plain": [
       "LogisticRegression(C=1.0, class_weight=None, dual=False, fit_intercept=True,\n",
       "          intercept_scaling=1, max_iter=100, multi_class='warn',\n",
       "          n_jobs=None, penalty='l2', random_state=None, solver='warn',\n",
       "          tol=0.0001, verbose=0, warm_start=False)"
      ]
     },
     "execution_count": 11,
     "metadata": {},
     "output_type": "execute_result"
    }
   ],
   "source": [
    "from sklearn.linear_model import LogisticRegression\n",
    "logmodel = LogisticRegression()\n",
    "logmodel.fit(X_train, y_train)"
   ]
  },
  {
   "cell_type": "markdown",
   "metadata": {},
   "source": [
    "# Using trained models"
   ]
  },
  {
   "cell_type": "code",
   "execution_count": 12,
   "metadata": {},
   "outputs": [
    {
     "name": "stdout",
     "output_type": "stream",
     "text": [
      "Model: sgd | Clicks: 130 - 64.36%, Won: 162933 - 53.61%\n",
      "Model: log | Clicks: 125 - 61.88%, Won: 146028 - 48.05%\n"
     ]
    }
   ],
   "source": [
    "# Testing both models on validation dataset\n",
    "models = [('sgd', sgdmodel), ('log', logmodel)]\n",
    "\n",
    "for name, model in models:\n",
    "    df = ds_val\n",
    "\n",
    "    df = check_clicks(df, get_bids(model, df, base_pay, base_ctr))\n",
    "    df[['bidid', 'bidprice']].to_csv('./val_bids.csv', index=False, header=True)\n",
    "\n",
    "    df['win'] = (df['bidprice'] - df['payprice']) >= 0\n",
    "\n",
    "    total = df.shape[0]\n",
    "    total_clicks = df[df['click'] == 1].shape[0]\n",
    "    won_clicks = df[(df['click'] == 1) & (df['win'] == 1)].shape[0]\n",
    "    total_won = df[df['win'] == True].shape[0]\n",
    "\n",
    "    print(f'Model: {name} | Clicks: {won_clicks} - {won_clicks/total_clicks * 100:.2f}%, Won: {total_won} - {total_won/total*100:.2f}%')"
   ]
  },
  {
   "cell_type": "code",
   "execution_count": 13,
   "metadata": {},
   "outputs": [],
   "source": [
    "# Create test bid file for Deepmining website\n",
    "df = ds_test\n",
    "model = logmodel # select model to use\n",
    "\n",
    "df = get_bids(logmodel, df, base_pay, base_ctr)\n",
    "df[['bidid', 'bidprice']].to_csv('./test_bids.csv', index=False, header=True)"
   ]
  }
 ],
 "metadata": {
  "kernelspec": {
   "display_name": "Python 3",
   "language": "python",
   "name": "python3"
  },
  "language_info": {
   "codemirror_mode": {
    "name": "ipython",
    "version": 3
   },
   "file_extension": ".py",
   "mimetype": "text/x-python",
   "name": "python",
   "nbconvert_exporter": "python",
   "pygments_lexer": "ipython3",
   "version": "3.6.8"
  }
 },
 "nbformat": 4,
 "nbformat_minor": 2
}
